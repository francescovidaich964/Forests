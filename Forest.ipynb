{
 "cells": [
  {
   "cell_type": "code",
   "execution_count": 3,
   "metadata": {},
   "outputs": [],
   "source": [
    "import numpy as np\n",
    "import pandas as pd"
   ]
  },
  {
   "cell_type": "code",
   "execution_count": 4,
   "metadata": {},
   "outputs": [
    {
     "data": {
      "text/html": [
       "<div>\n",
       "<style scoped>\n",
       "    .dataframe tbody tr th:only-of-type {\n",
       "        vertical-align: middle;\n",
       "    }\n",
       "\n",
       "    .dataframe tbody tr th {\n",
       "        vertical-align: top;\n",
       "    }\n",
       "\n",
       "    .dataframe thead th {\n",
       "        text-align: right;\n",
       "    }\n",
       "</style>\n",
       "<table border=\"1\" class=\"dataframe\">\n",
       "  <thead>\n",
       "    <tr style=\"text-align: right;\">\n",
       "      <th></th>\n",
       "      <th>tag</th>\n",
       "      <th>sp</th>\n",
       "      <th>gx</th>\n",
       "      <th>gy</th>\n",
       "      <th>dbh</th>\n",
       "      <th>pom</th>\n",
       "      <th>date</th>\n",
       "      <th>codes</th>\n",
       "      <th>status</th>\n",
       "    </tr>\n",
       "  </thead>\n",
       "  <tbody>\n",
       "    <tr>\n",
       "      <th>0</th>\n",
       "      <td>105951</td>\n",
       "      <td>ACACME</td>\n",
       "      <td>610.0</td>\n",
       "      <td>104.7</td>\n",
       "      <td>119.0</td>\n",
       "      <td>1</td>\n",
       "      <td>8924.0</td>\n",
       "      <td>M</td>\n",
       "      <td>A</td>\n",
       "    </tr>\n",
       "    <tr>\n",
       "      <th>1</th>\n",
       "      <td>132160</td>\n",
       "      <td>ACACME</td>\n",
       "      <td>534.8</td>\n",
       "      <td>241.3</td>\n",
       "      <td>116.0</td>\n",
       "      <td>1</td>\n",
       "      <td>8922.0</td>\n",
       "      <td>*</td>\n",
       "      <td>A</td>\n",
       "    </tr>\n",
       "    <tr>\n",
       "      <th>2</th>\n",
       "      <td>132234</td>\n",
       "      <td>ACACME</td>\n",
       "      <td>539.4</td>\n",
       "      <td>242.3</td>\n",
       "      <td>NaN</td>\n",
       "      <td>0</td>\n",
       "      <td>8922.0</td>\n",
       "      <td>DN</td>\n",
       "      <td>D</td>\n",
       "    </tr>\n",
       "    <tr>\n",
       "      <th>3</th>\n",
       "      <td>132235</td>\n",
       "      <td>ACACME</td>\n",
       "      <td>538.8</td>\n",
       "      <td>242.5</td>\n",
       "      <td>NaN</td>\n",
       "      <td>0</td>\n",
       "      <td>8922.0</td>\n",
       "      <td>DN</td>\n",
       "      <td>D</td>\n",
       "    </tr>\n",
       "    <tr>\n",
       "      <th>4</th>\n",
       "      <td>191542</td>\n",
       "      <td>ACACME</td>\n",
       "      <td>282.7</td>\n",
       "      <td>177.5</td>\n",
       "      <td>75.0</td>\n",
       "      <td>1</td>\n",
       "      <td>8825.0</td>\n",
       "      <td>*</td>\n",
       "      <td>A</td>\n",
       "    </tr>\n",
       "  </tbody>\n",
       "</table>\n",
       "</div>"
      ],
      "text/plain": [
       "      tag      sp     gx     gy    dbh  pom    date codes status\n",
       "0  105951  ACACME  610.0  104.7  119.0    1  8924.0     M      A\n",
       "1  132160  ACACME  534.8  241.3  116.0    1  8922.0     *      A\n",
       "2  132234  ACACME  539.4  242.3    NaN    0  8922.0    DN      D\n",
       "3  132235  ACACME  538.8  242.5    NaN    0  8922.0    DN      D\n",
       "4  191542  ACACME  282.7  177.5   75.0    1  8825.0     *      A"
      ]
     },
     "execution_count": 4,
     "metadata": {},
     "output_type": "execute_result"
    }
   ],
   "source": [
    "data = pd.read_csv(\"bci05.csv\")\n",
    "data.head()"
   ]
  },
  {
   "cell_type": "code",
   "execution_count": 5,
   "metadata": {},
   "outputs": [],
   "source": [
    "data = data[data[\"status\"]=='A'][[\"tag\", \"sp\", \"gx\", \"gy\"]]"
   ]
  },
  {
   "cell_type": "code",
   "execution_count": 13,
   "metadata": {},
   "outputs": [
    {
     "name": "stdout",
     "output_type": "stream",
     "text": [
      "There are 299 different species\n"
     ]
    }
   ],
   "source": [
    "# 1) Species spotting\n",
    "types = data['sp'].value_counts().keys()\n",
    "S = len(types)\n",
    "print(\"There are {} different species\".format(S))"
   ]
  },
  {
   "cell_type": "code",
   "execution_count": 72,
   "metadata": {},
   "outputs": [],
   "source": [
    "# 2) Subsampling\n",
    "# 50 * 50 meters\n",
    "data[\"i\"], data[\"j\"] = data[\"gx\"]//50, data[\"gy\"]//50\n",
    "# a)\n",
    "cell_pop = data.groupby([\"i\", \"j\"])[\"sp\"].value_counts()\n",
    "# b) shaping them in a matrix\n",
    "cell_pop_M = cell_pop.unstack().stack(dropna=False).fillna(0).astype(int)\n",
    "cell_pop_M = np.array(cell_pop_M).reshape(20,10, 299) # i, j, specie\n",
    "\n",
    "# this prints are just for understanding how to work with this dataset\n",
    "#print(\"Presence and aboundance in subplot (0,0) : \\n\", cell_pop_M[0,0,:], '\\n')\n",
    "\n",
    "#print(\"Aboundances of the various species: \\n\", cell_pop_M.sum(axis=(0,1)), '\\n')\n",
    "\n",
    "presence = np.count_nonzero(cell_pop_M, axis = (0,1))\n",
    "#print(\"Absolute presence for each species: \\n\", presence, '\\n')\n",
    "\n",
    "p_i = presence/(200)\n",
    "#print(\"Relative presence for each species: \\n\", p_i, '\\n')\n",
    "\n",
    "# S+ - S-\n",
    "S_present = np.count_nonzero(cell_pop_M, axis = (2)).flatten()\n",
    "\n",
    "S_absent = S - S_present\n",
    "\n",
    "# In each subplot there are more absent species than present\n",
    "S_pm = S_present - S_absent\n",
    "\n",
    "# constraint C_0 = < (S+ - S-)^2 >\n",
    "C_0 = np.sum(np.power(S_pm,2))\n"
   ]
  },
  {
   "cell_type": "markdown",
   "metadata": {},
   "source": [
    "## 3 - Max Ent 1\n",
    "\n",
    "Analytical derivation of the tuned Lagrangian multipliers as functions of the constraints.\n",
    "\n",
    "$$ \\lambda_i = -\\frac{1}{2} \\cdot ln(\\frac{1+ m_i}{1 - m_i} )$$"
   ]
  },
  {
   "cell_type": "code",
   "execution_count": 111,
   "metadata": {},
   "outputs": [],
   "source": [
    "m_i = 2*p_i - 1\n",
    "eps = 10e-06 # a small regularization in order to avoid devergences\n",
    "l_i = -0.5 * np.log((1 + m_i + eps)/(1 - m_i + eps) )"
   ]
  },
  {
   "cell_type": "markdown",
   "metadata": {},
   "source": [
    "## 4 - Max Ent 2\n",
    "\n",
    "### Constraints for Max Ent 2\n",
    "\n",
    "The constraints that we are going to use are:\n",
    "* $m_i = <\\sigma_i>_{model} = C_i(\\vec{\\sigma}) $ with coupled parameters $\\lambda_i, i = 1,\\ldots, S$\n",
    "* $<(S_+ - S_-)^2>_{exp} = <(\\sum_{j=1}^{S}\\sigma_j)^2>_{model} = C_0(\\vec{\\sigma})$ with coupled parameter $\\lambda_0 = K/S$\n",
    "\n",
    "To initialize the Lagrange multipliers we have two possible choices: extracting them from a gaussian distribution centered in 0 or to take the initial $\\lambda_i$ as the one of the previous point and for $K'$ using a gaussian with variance that is a funtion of S. [WORK IN PROGRESS]\n",
    "\n",
    "### Gradient descent function\n",
    "\n",
    "The objective function that we want to minimize is the Kullback–Leibler divergence $D_{KL}(P_{exp}/P_{model})$.\n",
    "\n",
    "The derivatives of the KL-divergence w.r.t. the Lagrangian multipliers are:\n",
    "\n",
    "$$ \\frac{\\partial D_{KL}}{\\partial \\lambda_a} = <C_a(\\vec{\\sigma})>_{model}-<C_a(\\vec{\\sigma})>_{exp} $$\n",
    "\n",
    "More in concrete:\n",
    "\n",
    "$$\\frac{\\partial D_{KL}(t)}{\\partial \\lambda_0} = <(\\sum_{j=1}^{S}\\sigma_j)^2>_{model(t)} - <(S_+ - S_-)^2>_{exp}  $$\n",
    "\n",
    "$$\\frac{\\partial D_{KL}(t)}{\\partial \\lambda_i} = <\\sigma_i>_{model(t)} - m_i $$\n",
    "\n",
    "\n",
    "Thus the update rule for gradient descent will be:\n",
    "\n",
    "$$\\lambda_a(t+1) \\leftarrow \\lambda_a(t) - \\eta \\cdot \\frac{\\partial D_{KL}(t)}{\\partial \\lambda_a}$$\n",
    "\n",
    "\n",
    "### Stopping criteria\n",
    "Then we want to run the cycle of Metropolis and gradient descent until a stopping criteria is met.\n",
    "Possible choices are:\n",
    "* fixed number of iterations\n",
    "* margin of improvement under a certain threshold"
   ]
  },
  {
   "cell_type": "code",
   "execution_count": 99,
   "metadata": {},
   "outputs": [],
   "source": [
    "import metropolis as M"
   ]
  },
  {
   "cell_type": "code",
   "execution_count": 86,
   "metadata": {},
   "outputs": [],
   "source": [
    "# define the constraint functions\n",
    "# s is thought as a configuration of S spins\n",
    "\n",
    "def K_constraint(s):\n",
    "    return np.power(s.sum(),2)\n",
    "\n",
    "#l_constraints = [lambda s : s[i] for i in range(S)]\n",
    "l_constraints = []\n",
    "# each lambda is the projection of the vector to its i-th coordinate\n",
    "for i in range(S):\n",
    "    l_constraints.append(lambda s, j=i: s[j])\n",
    "    \n",
    "constraints_funcs = [K_constraint] + l_constraints"
   ]
  },
  {
   "cell_type": "code",
   "execution_count": 113,
   "metadata": {},
   "outputs": [],
   "source": [
    "# initialize the lagrangian parameters\n",
    "l_0 = np.random.randn()\n",
    "lagrange_multipliers = np.concatenate((np.array([l_0]), l_i))\n",
    "\n",
    "# the learning rate\n",
    "eta = 0.1\n",
    "\n",
    "# and the number of iterations\n",
    "max_iter = 100\n",
    "\n",
    "exp_constraints = [C_0] + m_i"
   ]
  },
  {
   "cell_type": "code",
   "execution_count": 98,
   "metadata": {},
   "outputs": [
    {
     "name": "stdout",
     "output_type": "stream",
     "text": [
      "(2, 299)\n",
      "(299,)\n",
      "(299,)\n"
     ]
    }
   ],
   "source": [
    "# just some tricks with list of lambda functions\n",
    "a = np.arange(S)\n",
    "Mat = np.tile(a, (2,1))\n",
    "print(Mat.shape)\n",
    "for i in range(len(Mat)):\n",
    "    print(np.array(list(map(lambda f: f(Mat[i]),l_constraints))).shape)"
   ]
  },
  {
   "cell_type": "code",
   "execution_count": 96,
   "metadata": {},
   "outputs": [],
   "source": [
    "def gradient(model_configs, constraints_funcs, exp_constraints):\n",
    "    # we feed to each constraint function an array of arrays, made by replicas of configurations of S spins\n",
    "    N = len(model_configs)\n",
    "    model_constraints = np.zeros((N,S))\n",
    "    for i in range(N):\n",
    "        model_constraints[i] = np.array(list(map(lambda f: f(model_configs[i]), constraints_funcs)))\n",
    "    \n",
    "    # mean over the columns (replicas)\n",
    "    mean_model_c = model_constraints.mean(axis = 1)\n",
    "    \n",
    "    # returns the gradient (points in the direction of maximal growth)\n",
    "    return mean_model_c - exp_constraints"
   ]
  },
  {
   "cell_type": "code",
   "execution_count": 104,
   "metadata": {},
   "outputs": [],
   "source": [
    "# instance of the class \n",
    "model = M.Metropolis(S)"
   ]
  },
  {
   "cell_type": "code",
   "execution_count": 118,
   "metadata": {},
   "outputs": [
    {
     "name": "stdout",
     "output_type": "stream",
     "text": [
      "Help on Metropolis in module metropolis object:\n",
      "\n",
      "class Metropolis(builtins.object)\n",
      " |  Metropolis(S, M=100, N=1000, max_acceptance=0.1)\n",
      " |  \n",
      " |  Metropolis algorithm for an Ising model with the Hamiltonian given by maximum entropy principle.\n",
      " |  \n",
      " |  Parameters\n",
      " |  ------------\n",
      " |  \n",
      " |  S              : number of spins of a configuration (size of the system)\n",
      " |  M              : number of configurations used to compute the running rate of acceptance (memory)\n",
      " |  N              : number of configurations to be sampled\n",
      " |  max_acceptance : acceptance rate under which starts the importance sampling (es. 0.10)\n",
      " |  \n",
      " |  Attributes\n",
      " |  ------------\n",
      " |  \n",
      " |  L_multipliers    : list or numpy array of m Lagrange multipliers \n",
      " |  constraint_funcs : list of m functions of the spins of a configuration, to implement the max-ent constraints\n",
      " |  energy           : the Hamiltonian for a configuration of spins is the scalar product between the lagrangian\n",
      " |                      multipliers and the constraint functions computed for the given configuration\n",
      " |  configs          : numpy ndarray of N rows and S columns, to store the sampled configurations\n",
      " |  history          : list of the records of all the accepted and refused steps\n",
      " |  \n",
      " |  Methods defined here:\n",
      " |  \n",
      " |  __init__(self, S, M=100, N=1000, max_acceptance=0.1)\n",
      " |  \n",
      " |  calibrate(self)\n",
      " |      Starts from a random configurations and sets the first configuration in configs as the one at \n",
      " |      which the acceptance rate of the last M configurations is under max_acceptance.\n",
      " |  \n",
      " |  choice(self, last_config, new_config)\n",
      " |      Implements Metropolis choice.\n",
      " |  \n",
      " |  compute_energy(self, s)\n",
      " |      Computes the energy of a configuration.\n",
      " |  \n",
      " |  sample(self, N)\n",
      " |      Computes and returns N configurations of the system.\n",
      " |  \n",
      " |  set_hamiltonian(self, L_multipliers, constraint_funcs)\n",
      " |      Sets L_multipliers and constraint_funcs.\n",
      " |  \n",
      " |  ----------------------------------------------------------------------\n",
      " |  Data descriptors defined here:\n",
      " |  \n",
      " |  __dict__\n",
      " |      dictionary for instance variables (if defined)\n",
      " |  \n",
      " |  __weakref__\n",
      " |      list of weak references to the object (if defined)\n",
      "\n"
     ]
    }
   ],
   "source": [
    "help(model)"
   ]
  },
  {
   "cell_type": "code",
   "execution_count": 117,
   "metadata": {},
   "outputs": [
    {
     "data": {
      "text/plain": [
       "<module 'metropolis' from '/home/nicola/Nicola_unipd/QuartoAnno/TODO/StatMech Complex Systems/Exercise/Ex1/Forests/metropolis.py'>"
      ]
     },
     "execution_count": 117,
     "metadata": {},
     "output_type": "execute_result"
    }
   ],
   "source": [
    "import importlib\n",
    "importlib.reload(M)"
   ]
  },
  {
   "cell_type": "code",
   "execution_count": 121,
   "metadata": {},
   "outputs": [
    {
     "ename": "NameError",
     "evalue": "name 'constraint_funcs' is not defined",
     "output_type": "error",
     "traceback": [
      "\u001b[0;31m---------------------------------------------------------------------------\u001b[0m",
      "\u001b[0;31mNameError\u001b[0m                                 Traceback (most recent call last)",
      "\u001b[0;32m<ipython-input-121-cd156e577bcc>\u001b[0m in \u001b[0;36m<module>\u001b[0;34m()\u001b[0m\n\u001b[1;32m      2\u001b[0m     \u001b[0mmodel\u001b[0m\u001b[0;34m.\u001b[0m\u001b[0mset_hamiltonian\u001b[0m\u001b[0;34m(\u001b[0m\u001b[0mlagrange_multipliers\u001b[0m\u001b[0;34m,\u001b[0m \u001b[0mconstraints_funcs\u001b[0m \u001b[0;34m)\u001b[0m\u001b[0;34m\u001b[0m\u001b[0m\n\u001b[1;32m      3\u001b[0m     \u001b[0;31m#print(model.constraint_funcs)\u001b[0m\u001b[0;34m\u001b[0m\u001b[0;34m\u001b[0m\u001b[0m\n\u001b[0;32m----> 4\u001b[0;31m     \u001b[0mmodel\u001b[0m\u001b[0;34m.\u001b[0m\u001b[0mcalibrate\u001b[0m\u001b[0;34m(\u001b[0m\u001b[0;34m)\u001b[0m\u001b[0;34m\u001b[0m\u001b[0m\n\u001b[0m\u001b[1;32m      5\u001b[0m     \u001b[0;32mbreak\u001b[0m\u001b[0;34m\u001b[0m\u001b[0m\n\u001b[1;32m      6\u001b[0m \u001b[0;34m\u001b[0m\u001b[0m\n",
      "\u001b[0;32m~/Nicola_unipd/QuartoAnno/TODO/StatMech Complex Systems/Exercise/Ex1/Forests/metropolis.py\u001b[0m in \u001b[0;36mcalibrate\u001b[0;34m(self)\u001b[0m\n\u001b[1;32m     69\u001b[0m         \u001b[0ms_next\u001b[0m\u001b[0;34m[\u001b[0m\u001b[0mflip_spin\u001b[0m\u001b[0;34m]\u001b[0m \u001b[0;34m=\u001b[0m \u001b[0;34m-\u001b[0m\u001b[0;36m1\u001b[0m\u001b[0;34m*\u001b[0m\u001b[0ms_last\u001b[0m\u001b[0;34m[\u001b[0m\u001b[0mflip_spin\u001b[0m\u001b[0;34m]\u001b[0m\u001b[0;34m\u001b[0m\u001b[0m\n\u001b[1;32m     70\u001b[0m \u001b[0;34m\u001b[0m\u001b[0m\n\u001b[0;32m---> 71\u001b[0;31m         \u001b[0;32mif\u001b[0m \u001b[0mself\u001b[0m\u001b[0;34m.\u001b[0m\u001b[0mchoice\u001b[0m\u001b[0;34m(\u001b[0m\u001b[0ms_last\u001b[0m\u001b[0;34m,\u001b[0m \u001b[0ms_next\u001b[0m\u001b[0;34m)\u001b[0m\u001b[0;34m:\u001b[0m \u001b[0;31m#returns True or False, if True we accept it\u001b[0m\u001b[0;34m\u001b[0m\u001b[0m\n\u001b[0m\u001b[1;32m     72\u001b[0m             \u001b[0mself\u001b[0m\u001b[0;34m.\u001b[0m\u001b[0mhistory\u001b[0m\u001b[0;34m.\u001b[0m\u001b[0mappend\u001b[0m\u001b[0;34m(\u001b[0m\u001b[0;36m1\u001b[0m\u001b[0;34m)\u001b[0m \u001b[0;31m# keep the record\u001b[0m\u001b[0;34m\u001b[0m\u001b[0m\n\u001b[1;32m     73\u001b[0m             \u001b[0ms_last\u001b[0m \u001b[0;34m=\u001b[0m \u001b[0ms_next\u001b[0m\u001b[0;34m\u001b[0m\u001b[0m\n",
      "\u001b[0;32m~/Nicola_unipd/QuartoAnno/TODO/StatMech Complex Systems/Exercise/Ex1/Forests/metropolis.py\u001b[0m in \u001b[0;36mchoice\u001b[0;34m(self, last_config, new_config)\u001b[0m\n\u001b[1;32m     46\u001b[0m     \u001b[0;32mdef\u001b[0m \u001b[0mchoice\u001b[0m\u001b[0;34m(\u001b[0m\u001b[0mself\u001b[0m\u001b[0;34m,\u001b[0m \u001b[0mlast_config\u001b[0m\u001b[0;34m,\u001b[0m \u001b[0mnew_config\u001b[0m\u001b[0;34m)\u001b[0m\u001b[0;34m:\u001b[0m \u001b[0;31m# should I use self?\u001b[0m\u001b[0;34m\u001b[0m\u001b[0m\n\u001b[1;32m     47\u001b[0m         \u001b[0;34m\"\"\"Implements Metropolis choice.\"\"\"\u001b[0m\u001b[0;34m\u001b[0m\u001b[0m\n\u001b[0;32m---> 48\u001b[0;31m         \u001b[0mlast_energy\u001b[0m \u001b[0;34m=\u001b[0m \u001b[0mself\u001b[0m\u001b[0;34m.\u001b[0m\u001b[0mcompute_energy\u001b[0m\u001b[0;34m(\u001b[0m\u001b[0mlast_config\u001b[0m\u001b[0;34m)\u001b[0m\u001b[0;34m\u001b[0m\u001b[0m\n\u001b[0m\u001b[1;32m     49\u001b[0m         \u001b[0mnew_energy\u001b[0m \u001b[0;34m=\u001b[0m \u001b[0mself\u001b[0m\u001b[0;34m.\u001b[0m\u001b[0mcompute_energy\u001b[0m\u001b[0;34m(\u001b[0m\u001b[0mnew_config\u001b[0m\u001b[0;34m)\u001b[0m\u001b[0;34m\u001b[0m\u001b[0m\n\u001b[1;32m     50\u001b[0m         \u001b[0;32mif\u001b[0m  \u001b[0mnew_energy\u001b[0m \u001b[0;34m<\u001b[0m \u001b[0mlast_energy\u001b[0m\u001b[0;34m:\u001b[0m\u001b[0;34m\u001b[0m\u001b[0m\n",
      "\u001b[0;32m~/Nicola_unipd/QuartoAnno/TODO/StatMech Complex Systems/Exercise/Ex1/Forests/metropolis.py\u001b[0m in \u001b[0;36mcompute_energy\u001b[0;34m(self, s)\u001b[0m\n\u001b[1;32m     41\u001b[0m     \u001b[0;32mdef\u001b[0m \u001b[0mcompute_energy\u001b[0m\u001b[0;34m(\u001b[0m\u001b[0mself\u001b[0m\u001b[0;34m,\u001b[0m \u001b[0ms\u001b[0m\u001b[0;34m)\u001b[0m\u001b[0;34m:\u001b[0m \u001b[0;31m# should I use self?\u001b[0m\u001b[0;34m\u001b[0m\u001b[0m\n\u001b[1;32m     42\u001b[0m         \u001b[0;34m\"\"\"Computes the energy of a configuration.\"\"\"\u001b[0m\u001b[0;34m\u001b[0m\u001b[0m\n\u001b[0;32m---> 43\u001b[0;31m         \u001b[0mconstraints\u001b[0m \u001b[0;34m=\u001b[0m  \u001b[0mnp\u001b[0m\u001b[0;34m.\u001b[0m\u001b[0marray\u001b[0m\u001b[0;34m(\u001b[0m\u001b[0mlist\u001b[0m\u001b[0;34m(\u001b[0m\u001b[0mmap\u001b[0m\u001b[0;34m(\u001b[0m\u001b[0;32mlambda\u001b[0m \u001b[0mf\u001b[0m\u001b[0;34m:\u001b[0m \u001b[0mf\u001b[0m\u001b[0;34m(\u001b[0m\u001b[0ms\u001b[0m\u001b[0;34m)\u001b[0m\u001b[0;34m,\u001b[0m \u001b[0mself\u001b[0m\u001b[0;34m.\u001b[0m\u001b[0mconstraint_funcs\u001b[0m\u001b[0;34m)\u001b[0m\u001b[0;34m)\u001b[0m\u001b[0;34m)\u001b[0m\u001b[0;34m\u001b[0m\u001b[0m\n\u001b[0m\u001b[1;32m     44\u001b[0m         \u001b[0mself\u001b[0m\u001b[0;34m.\u001b[0m\u001b[0menergy\u001b[0m \u001b[0;34m=\u001b[0m \u001b[0mnp\u001b[0m\u001b[0;34m.\u001b[0m\u001b[0mdot\u001b[0m\u001b[0;34m(\u001b[0m\u001b[0mconstraints\u001b[0m\u001b[0;34m,\u001b[0m \u001b[0mself\u001b[0m\u001b[0;34m.\u001b[0m\u001b[0mL_multipliers\u001b[0m\u001b[0;34m)\u001b[0m\u001b[0;34m\u001b[0m\u001b[0m\n\u001b[1;32m     45\u001b[0m \u001b[0;34m\u001b[0m\u001b[0m\n",
      "\u001b[0;31mNameError\u001b[0m: name 'constraint_funcs' is not defined"
     ]
    }
   ],
   "source": [
    "for i in range(max_iter):\n",
    "    model.set_hamiltonian(lagrange_multipliers, constraints_funcs )\n",
    "    #print(model.constraint_funcs)\n",
    "    model.calibrate()\n",
    "    break\n",
    "    "
   ]
  },
  {
   "cell_type": "code",
   "execution_count": null,
   "metadata": {},
   "outputs": [],
   "source": []
  }
 ],
 "metadata": {
  "kernelspec": {
   "display_name": "Python 3",
   "language": "python",
   "name": "python3"
  },
  "language_info": {
   "codemirror_mode": {
    "name": "ipython",
    "version": 3
   },
   "file_extension": ".py",
   "mimetype": "text/x-python",
   "name": "python",
   "nbconvert_exporter": "python",
   "pygments_lexer": "ipython3",
   "version": "3.7.0"
  }
 },
 "nbformat": 4,
 "nbformat_minor": 2
}
